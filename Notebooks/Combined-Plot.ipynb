{
 "cells": [
  {
   "cell_type": "code",
   "execution_count": null,
   "id": "2169b0c6",
   "metadata": {},
   "outputs": [],
   "source": [
    "import matplotlib.pyplot as plt\n",
    "import seaborn\n",
    "import pickle\n",
    "from collections import defaultdict\n",
    "import pandas as pd"
   ]
  },
  {
   "cell_type": "code",
   "execution_count": null,
   "id": "dd344df8",
   "metadata": {},
   "outputs": [],
   "source": [
    "COLORS = {}\n",
    "COLORS[\"MSCN\"] = \"#4260f5\"\n",
    "COLORS[\"MSCN (Ours)\"] = \"Green\""
   ]
  },
  {
   "cell_type": "code",
   "execution_count": null,
   "id": "eb55b386",
   "metadata": {},
   "outputs": [],
   "source": [
    "with open(\"dropout-attrs.pkl\", \"rb\") as f:\n",
    "    xlabels_drop, attrs_drop = pickle.load(f)"
   ]
  },
  {
   "cell_type": "code",
   "execution_count": null,
   "id": "44c3c502",
   "metadata": {},
   "outputs": [],
   "source": [
    "with open(\"default-attrs.pkl\", \"rb\") as f:\n",
    "    xlabels_default, attrs_default = pickle.load(f)"
   ]
  },
  {
   "cell_type": "code",
   "execution_count": null,
   "id": "3006a843",
   "metadata": {},
   "outputs": [],
   "source": [
    "import seaborn as sns\n",
    "\n",
    "# def plot_attrs(xlabels, attrs, ax=None):\n",
    "#     if ax is None:\n",
    "#         plt.figure(figsize=(20, 20))\n",
    "#         ax = plt.axes()\n",
    "\n",
    "#     #plt.yticks(fontsize=20)\n",
    "#     sns.barplot(x=attrs, y=xlabels, color='#4260f5', orient=\"horizontal\", ax=ax, ci=None)"
   ]
  },
  {
   "cell_type": "code",
   "execution_count": null,
   "id": "4d3fa6db",
   "metadata": {},
   "outputs": [],
   "source": [
    "cdata = defaultdict(list)\n",
    "for xi in range(len(xlabels_drop)):\n",
    "    cdata[\"Feature\"].append(xlabels_drop[xi])\n",
    "    cdata[\"Attribute Importance\"].append(attrs_drop[xi])\n",
    "    cdata[\"Model\"].append(\"MSCN (Ours)\")\n",
    "    \n",
    "    cdata[\"Feature\"].append(xlabels_default[xi])\n",
    "    cdata[\"Attribute Importance\"].append(attrs_default[xi])\n",
    "    cdata[\"Model\"].append(\"MSCN\")\n",
    "    \n",
    "cdf = pd.DataFrame(cdata)"
   ]
  },
  {
   "cell_type": "code",
   "execution_count": null,
   "id": "2379629c",
   "metadata": {},
   "outputs": [],
   "source": [
    "#cdf[\"Feature\"] = cdf.apply(lambda x: x[\"Feature\"].replace(\",\", \",\\n\") ,axis=1)"
   ]
  },
  {
   "cell_type": "code",
   "execution_count": null,
   "id": "cc570acc",
   "metadata": {},
   "outputs": [],
   "source": [
    "plt.figure(figsize=(7, 14))\n",
    "ax = plt.axes()\n",
    "\n",
    "#'#4260f5'\n",
    "\n",
    "sns.barplot(data=cdf, x=\"Attribute Importance\", y=\"Feature\", hue=\"Model\",\n",
    "            palette = COLORS,\n",
    "            orient=\"horizontal\", ax=ax, ci=None)\n",
    "\n",
    "plt.yticks(fontsize=20)\n",
    "ax.set_ylabel(\"Features\", fontsize=0)\n",
    "ax.set_xlabel(\"Attribute Importance\", fontsize=20)\n",
    "\n",
    "legend = ax.legend(loc='upper left', bbox_to_anchor=(0.1,1.05), ncol=2,\n",
    "                  prop={'size': 16})\n",
    "\n",
    "plt.savefig(\"combined-attribute-figure.pdf\", bbox_inches=\"tight\")\n",
    "plt.show()\n"
   ]
  },
  {
   "cell_type": "code",
   "execution_count": null,
   "id": "6120469a",
   "metadata": {},
   "outputs": [],
   "source": []
  }
 ],
 "metadata": {
  "kernelspec": {
   "display_name": "Python 3 (ipykernel)",
   "language": "python",
   "name": "python3"
  },
  "language_info": {
   "codemirror_mode": {
    "name": "ipython",
    "version": 3
   },
   "file_extension": ".py",
   "mimetype": "text/x-python",
   "name": "python",
   "nbconvert_exporter": "python",
   "pygments_lexer": "ipython3",
   "version": "3.10.4"
  }
 },
 "nbformat": 4,
 "nbformat_minor": 5
}
