{
 "cells": [
  {
   "cell_type": "code",
   "execution_count": null,
   "id": "anonymous-duplicate",
   "metadata": {},
   "outputs": [],
   "source": [
    "import matplotlib.pyplot as plt\n",
    "import seaborn as sns\n",
    "import numpy as np\n",
    "import pandas as pd\n",
    "from collections import defaultdict"
   ]
  },
  {
   "cell_type": "code",
   "execution_count": null,
   "id": "sound-mapping",
   "metadata": {},
   "outputs": [],
   "source": [
    "# PG: 9.987h; True: 5.309h; FLAT: 5.418h; DeepDB: 5.974h; MSCN: 7.417h; MSCN_ours: 5.480h\n",
    "# Model size: FLAT 310mb; DeepDB 162mb\n",
    "# Training time: FLAT 262 min; DeepDB 108 min\n",
    "# Inference speed: FLAT 175ms per sub-plan query; DeepDB 87ms (multiply by 2603 to get the total planning time)"
   ]
  },
  {
   "cell_type": "code",
   "execution_count": null,
   "id": "exposed-shuttle",
   "metadata": {},
   "outputs": [],
   "source": [
    "COLORS = {}\n",
    "COLORS[\"MSCN\"] = \"#4260f5\"\n",
    "COLORS[\"Robust-MSCN\"] = \"Green\"\n",
    "COLORS[\"PostgreSQL\"] = \"Red\"\n",
    "COLORS[\"True\"] = \"Cyan\"\n",
    "COLORS[\"FLAT\"] = \"Black\"\n",
    "COLORS[\"DeepDB\"] = \"Gray\""
   ]
  },
  {
   "cell_type": "code",
   "execution_count": null,
   "id": "incoming-maryland",
   "metadata": {},
   "outputs": [],
   "source": [
    "data = defaultdict(list)\n",
    "\n",
    "ESTS = [\"PostgreSQL\", \"True\", \"FLAT\", \"DeepDB\", \"MSCN\", \"Robust-MSCN\"]\n",
    "SIZES = [0.1, -1, 310, 162, 0.7, 0.7]\n",
    "TRAINING = [-1, -1, 262, 108, 5, 5]\n",
    "INFERENCE = [-1, -1, 175*2603, 87*2603, 5*2603, 5*2603]\n",
    "LATS = [9.987, 5.308, 5.418, 5.974, 7.417, 5.48]\n",
    "\n",
    "for i in range(len(ESTS)):\n",
    "    data[\"Estimator\"].append(ESTS[i])\n",
    "    data[\"Model Size\"].append(SIZES[i])\n",
    "    data[\"Training Time\"].append(TRAINING[i])\n",
    "    data[\"Inference Time\"].append(INFERENCE[i] / 1000.0)\n",
    "    data[\"Total Latency\"].append(LATS[i])\n",
    "\n",
    "df = pd.DataFrame(data)"
   ]
  },
  {
   "cell_type": "code",
   "execution_count": null,
   "id": "metallic-healing",
   "metadata": {},
   "outputs": [],
   "source": [
    "df.head(5)"
   ]
  },
  {
   "cell_type": "code",
   "execution_count": null,
   "id": "crazy-product",
   "metadata": {},
   "outputs": [],
   "source": [
    "fig,axs = plt.subplots(nrows=1, ncols=4, figsize=(28,6))\n",
    "\n",
    "ax = axs[0]\n",
    "sns.barplot(data=df, x=\"Estimator\", y=\"Total Latency\", hue=\"Estimator\",\n",
    "            dodge=False,\n",
    "            palette=COLORS, ax=ax)\n",
    "ax.set_ylabel(\"Hours\", fontsize=16)\n",
    "#ax.set_xlabel(\"Estimators\", fontsize=16)\n",
    "ax.set_xlabel(\"\", fontsize=0)\n",
    "ax.set_xticks([])\n",
    "ax.set_title(\"Query Latency\", fontsize=16)\n",
    "\n",
    "ax.legend().remove()\n",
    "legend = ax.legend(loc='upper left', bbox_to_anchor=(0.6,1.20), ncol=6, frameon=False, \n",
    "                  fontsize=20)\n",
    "\n",
    "ax = axs[1]\n",
    "\n",
    "tmp = df[df[\"Model Size\"] != -1]\n",
    "sns.barplot(data=tmp, x=\"Estimator\", y=\"Model Size\", hue=\"Estimator\",\n",
    "            dodge=False,\n",
    "            palette=COLORS, ax=ax)\n",
    "\n",
    "ax.set_ylabel(\"MBs\", fontsize=16)\n",
    "#ax.set_xlabel(\"Estimators\", fontsize=16)\n",
    "ax.set_xlabel(\"\", fontsize=0)\n",
    "ax.set_xticks([])\n",
    "ax.set_title(\"Model Size\", fontsize=16)\n",
    "ax.set_yscale(\"log\")\n",
    "ax.legend().remove()\n",
    "\n",
    "ax = axs[2]\n",
    "tmp = df[df[\"Training Time\"] != -1]\n",
    "sns.barplot(data=tmp, x=\"Estimator\", y=\"Training Time\", hue=\"Estimator\",\n",
    "            dodge=False,\n",
    "            palette=COLORS, ax=ax)\n",
    "\n",
    "ax.set_ylabel(\"Minutes\", fontsize=16)\n",
    "#ax.set_xlabel(\"Estimators\", fontsize=16)\n",
    "ax.set_xlabel(\"\", fontsize=0)\n",
    "ax.set_xticks([])\n",
    "ax.set_title(\"Training Time\", fontsize=16)\n",
    "ax.set_yscale(\"log\")\n",
    "ax.legend().remove()\n",
    "\n",
    "ax = axs[3]\n",
    "tmp = df[df[\"Inference Time\"] >= 0]\n",
    "sns.barplot(data=tmp, x=\"Estimator\", y=\"Inference Time\", hue=\"Estimator\",\n",
    "            dodge=False,\n",
    "            palette=COLORS, ax=ax)\n",
    "\n",
    "ax.set_ylabel(\"Seconds\", fontsize=16)\n",
    "ax.set_xlabel(\"\", fontsize=0)\n",
    "ax.set_xticks([])\n",
    "ax.set_title(\"Inference Time\", fontsize=16)\n",
    "ax.set_yscale(\"log\")\n",
    "ax.legend().remove()\n",
    "\n",
    "plt.savefig(\"Data-driven-comparison.pdf\", bbox_inches=\"tight\")"
   ]
  },
  {
   "cell_type": "code",
   "execution_count": null,
   "id": "adapted-brooklyn",
   "metadata": {},
   "outputs": [],
   "source": []
  }
 ],
 "metadata": {
  "kernelspec": {
   "display_name": "Python 3",
   "language": "python",
   "name": "python3"
  },
  "language_info": {
   "codemirror_mode": {
    "name": "ipython",
    "version": 3
   },
   "file_extension": ".py",
   "mimetype": "text/x-python",
   "name": "python",
   "nbconvert_exporter": "python",
   "pygments_lexer": "ipython3",
   "version": "3.9.9"
  }
 },
 "nbformat": 4,
 "nbformat_minor": 5
}
