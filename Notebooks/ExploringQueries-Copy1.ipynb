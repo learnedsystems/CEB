{
 "cells": [
  {
   "cell_type": "code",
   "execution_count": null,
   "id": "orange-devon",
   "metadata": {},
   "outputs": [],
   "source": [
    "%load_ext autoreload\n",
    "%autoreload 2\n",
    "\n",
    "import numpy as np\n",
    "import pandas as pd\n",
    "\n",
    "from cardinality_estimation.featurizer import Featurizer\n",
    "from query_representation.query import load_qrep\n",
    "\n",
    "import glob\n",
    "import random\n",
    "import os\n",
    "import json\n",
    "import time\n",
    "from collections import defaultdict\n",
    "\n",
    "from IPython.display import HTML\n",
    "from IPython.display import display_html"
   ]
  },
  {
   "cell_type": "code",
   "execution_count": null,
   "id": "difficult-expense",
   "metadata": {},
   "outputs": [],
   "source": [
    "#TRAINDIR = os.path.join(os.path.join(\"\", \"queries\"), \"imdb\")\n",
    "#TRAINDIR = os.path.join(os.path.join(\"\", \"queries\"), \"tpcds\")\n",
    "TRAINDIR = os.path.join(os.path.join(\"\", \"queries\"), \"job\")\n",
    "print(TRAINDIR)"
   ]
  },
  {
   "cell_type": "code",
   "execution_count": null,
   "id": "rough-thread",
   "metadata": {},
   "outputs": [],
   "source": [
    "\n",
    "def load_qdata(fns):\n",
    "    qreps = []\n",
    "    for qfn in fns:\n",
    "        qrep = load_qrep(qfn)\n",
    "        # TODO: can do checks like no queries with zero cardinalities etc.\n",
    "        qreps.append(qrep)\n",
    "        template_name = os.path.basename(os.path.dirname(qfn))\n",
    "        qrep[\"name\"] = os.path.basename(qfn)\n",
    "        qrep[\"template_name\"] = template_name\n",
    "    return qreps\n",
    "\n",
    "def get_query_fns(basedir, template_fraction=1.0):\n",
    "    fns = []\n",
    "    tmpnames = list(glob.glob(os.path.join(basedir, \"*\")))\n",
    "    assert template_fraction <= 1.0\n",
    "    print(tmpnames)\n",
    "    for qi,qdir in enumerate(tmpnames):\n",
    "        if os.path.isfile(qdir):\n",
    "            continue\n",
    "        print(qdir)\n",
    "        template_name = os.path.basename(qdir)\n",
    "        # let's first select all the qfns we are going to load\n",
    "        qfns = list(glob.glob(os.path.join(qdir, \"*.pkl\")))\n",
    "        qfns.sort()\n",
    "        num_samples = max(int(len(qfns)*template_fraction), 1)\n",
    "        random.seed(1234)\n",
    "        qfns = random.sample(qfns, num_samples)\n",
    "        fns += qfns\n",
    "    return fns"
   ]
  },
  {
   "cell_type": "code",
   "execution_count": null,
   "id": "sporting-alarm",
   "metadata": {},
   "outputs": [],
   "source": [
    "train_qfns = get_query_fns(TRAINDIR, template_fraction = 1.0)\n",
    "trainqs = load_qdata(train_qfns)"
   ]
  },
  {
   "cell_type": "code",
   "execution_count": null,
   "id": "continued-infection",
   "metadata": {},
   "outputs": [],
   "source": [
    "print(len(trainqs))"
   ]
  },
  {
   "cell_type": "code",
   "execution_count": null,
   "id": "psychological-brush",
   "metadata": {},
   "outputs": [],
   "source": [
    "allconstants = defaultdict(set)\n",
    "constantmaxs = defaultdict(int)"
   ]
  },
  {
   "cell_type": "code",
   "execution_count": null,
   "id": "abandoned-period",
   "metadata": {},
   "outputs": [],
   "source": [
    "for query in trainqs:\n",
    "    for node in query[\"join_graph\"].nodes():\n",
    "        if not \"pred_cols\" in query[\"join_graph\"].nodes()[node]:\n",
    "            continue\n",
    "        for ci, col in enumerate(query[\"join_graph\"].nodes()[node][\"pred_cols\"]):\n",
    "            consts = query[\"join_graph\"].nodes()[node][\"pred_vals\"][ci]\n",
    "            #print(consts)\n",
    "            if isinstance(consts, dict):\n",
    "                consts = consts[\"literal\"]\n",
    "            elif not isinstance(consts, list):\n",
    "                consts = [consts]\n",
    "            \n",
    "            for const in consts:\n",
    "                if isinstance(const, dict):\n",
    "                    const = const[\"literal\"]\n",
    "                allconstants[col].add(const)\n",
    "            if constantmaxs[col] < len(consts):\n",
    "                constantmaxs[col] = len(consts)\n",
    "#             if len(consts) > 20:\n",
    "#                 print(consts)\n",
    "#                 print(query[\"sql\"])\n",
    "#                 print(query[\"name\"])"
   ]
  },
  {
   "cell_type": "code",
   "execution_count": null,
   "id": "thick-classics",
   "metadata": {},
   "outputs": [],
   "source": [
    "for k,v in allconstants.items():\n",
    "    print(k, len(v), constantmaxs[k])"
   ]
  },
  {
   "cell_type": "code",
   "execution_count": null,
   "id": "employed-earth",
   "metadata": {},
   "outputs": [],
   "source": [
    "data = defaultdict(list)\n",
    "for query in trainqs:\n",
    "    jg = query[\"join_graph\"]\n",
    "    sg = query[\"subset_graph\"]\n",
    "    \n",
    "    for node in jg.nodes():\n",
    "        #data[\"num_unique_cols\"].append(len)\n",
    "        #print(query[\"sql\"])\n",
    "        #print(query[\"\"])\n",
    "        #print(query[\"join_graph\"].nodes()[node])\n",
    "        if not \"pred_cols\" in query[\"join_graph\"].nodes()[node]:\n",
    "            continue\n",
    "        if len(jg.nodes()[node][\"pred_cols\"]) == 0:\n",
    "            continue\n",
    "        #data[\"num_unique_cols\"].append(jg.nodes()[node][\"pred_cols\"])\n",
    "        \n",
    "        alias_key = tuple([node])\n",
    "        cards = sg.nodes()[alias_key][\"cardinality\"]\n",
    "        #print(cards)\n",
    "        sel = cards[\"actual\"] / cards[\"total\"]\n",
    "        sel = min(sel, 1.00)\n",
    "        curcard = cards[\"actual\"]\n",
    "        \n",
    "        seencols = []\n",
    "        seenops = []\n",
    "        consts = []\n",
    "            \n",
    "#         data[\"selectivity\"].append(sel)\n",
    "#         data[\"cardinality\"].append(curcard)\n",
    "        for ci, col in enumerate(query[\"join_graph\"].nodes()[node][\"pred_cols\"]):\n",
    "            \n",
    "            op = jg.nodes()[node][\"pred_types\"][ci]           \n",
    "            if op not in seenops:\n",
    "                seenops.append(op)\n",
    "            if col not in seencols:\n",
    "                seencols.append(seencols)\n",
    "            \n",
    "            if isinstance(jg.nodes()[node][\"pred_vals\"][ci], int):\n",
    "                consts.append(jg.nodes()[node][\"pred_vals\"][ci])\n",
    "            else:\n",
    "                consts += jg.nodes()[node][\"pred_vals\"][ci]\n",
    "        \n",
    "        data[\"input\"].append(jg.nodes()[node][\"real_name\"])     \n",
    "        if \"like\" in seenops:\n",
    "            data[\"like_ops\"].append(1)\n",
    "        else:\n",
    "            data[\"like_ops\"].append(0)\n",
    "\n",
    "        if \"lt\" in seenops:\n",
    "            data[\"cont_ops\"].append(1)\n",
    "        else:\n",
    "            data[\"cont_ops\"].append(0)\n",
    "\n",
    "        if \"in\" in seenops:\n",
    "            data[\"in_ops\"].append(1)\n",
    "        else:\n",
    "            data[\"in_ops\"].append(0)\n",
    "\n",
    "        if \"in\" in seenops or \"eq\" in seenops:\n",
    "            data[\"discrete_ops\"].append(1)\n",
    "            data[\"num_discrete_consts\"].append(len(consts))\n",
    "        else:\n",
    "            data[\"discrete_ops\"].append(0)\n",
    "            data[\"num_discrete_consts\"].append(0)\n",
    "        \n",
    "        data[\"num_ops\"].append(len(jg.nodes()[node][\"pred_types\"]))\n",
    "        data[\"num_cols_all\"].append(len(jg.nodes()[node][\"pred_cols\"]))\n",
    "        data[\"num_unique_ops\"].append(len(seenops))\n",
    "        data[\"unique_filter_cols\"].append(len(seencols))\n",
    "        data[\"equal_dates\"].append(0.0)"
   ]
  },
  {
   "cell_type": "code",
   "execution_count": null,
   "id": "political-triangle",
   "metadata": {},
   "outputs": [],
   "source": [
    "df = pd.DataFrame(data)"
   ]
  },
  {
   "cell_type": "code",
   "execution_count": null,
   "id": "earlier-glass",
   "metadata": {},
   "outputs": [],
   "source": [
    "print(df.keys())"
   ]
  },
  {
   "cell_type": "code",
   "execution_count": null,
   "id": "finished-works",
   "metadata": {},
   "outputs": [],
   "source": [
    "HTML(df[[\"num_ops\", \"num_unique_ops\", \"unique_filter_cols\",\n",
    "        \"num_discrete_consts\"]].\\\n",
    "     describe(percentiles=[0.9,0.99]).reset_index().to_html(index=False))"
   ]
  },
  {
   "cell_type": "code",
   "execution_count": null,
   "id": "public-general",
   "metadata": {},
   "outputs": [],
   "source": [
    "# HTML(df[[\"like_ops\", \"discrete_ops\", \"cont_ops\", \"in_ops\", \"equal_dates\"]].\\\n",
    "#      describe(percentiles=[0.9,0.99]).reset_index().to_html(index=False))\n",
    "HTML(df[[\"like_ops\", \"discrete_ops\", \"cont_ops\", \"in_ops\"]].\\\n",
    "     describe(percentiles=[0.9,0.99]).reset_index().to_html(index=False))"
   ]
  },
  {
   "cell_type": "code",
   "execution_count": null,
   "id": "southern-intervention",
   "metadata": {},
   "outputs": [],
   "source": [
    "HTML(df[[\"selectivity\", \"cardinality\"]].\\\n",
    "     describe(percentiles=[0.9,0.99]).reset_index().round(3).to_html(index=False))"
   ]
  },
  {
   "cell_type": "code",
   "execution_count": null,
   "id": "deluxe-spirituality",
   "metadata": {},
   "outputs": [],
   "source": [
    "#df.groupby(\"input\").count()"
   ]
  },
  {
   "cell_type": "code",
   "execution_count": null,
   "id": "labeled-border",
   "metadata": {},
   "outputs": [],
   "source": [
    "df.head(5)"
   ]
  },
  {
   "cell_type": "code",
   "execution_count": null,
   "id": "alert-turkish",
   "metadata": {},
   "outputs": [],
   "source": []
  }
 ],
 "metadata": {
  "kernelspec": {
   "display_name": "Python 3 (ipykernel)",
   "language": "python",
   "name": "python3"
  },
  "language_info": {
   "codemirror_mode": {
    "name": "ipython",
    "version": 3
   },
   "file_extension": ".py",
   "mimetype": "text/x-python",
   "name": "python",
   "nbconvert_exporter": "python",
   "pygments_lexer": "ipython3",
   "version": "3.10.4"
  }
 },
 "nbformat": 4,
 "nbformat_minor": 5
}
