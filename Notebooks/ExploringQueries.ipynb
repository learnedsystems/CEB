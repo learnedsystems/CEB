{
 "cells": [
  {
   "cell_type": "code",
   "execution_count": null,
   "id": "orange-devon",
   "metadata": {},
   "outputs": [],
   "source": [
    "%load_ext autoreload\n",
    "%autoreload 2\n",
    "\n",
    "import numpy as np\n",
    "import pandas as pd\n",
    "\n",
    "import sys\n",
    "sys.path.append(\"..\")\n",
    "from cardinality_estimation.featurizer import Featurizer\n",
    "from query_representation.query import load_qrep\n",
    "\n",
    "import glob\n",
    "import random\n",
    "import os\n",
    "import json\n",
    "import time\n",
    "from collections import defaultdict\n",
    "import seaborn as sns\n",
    "import matplotlib.pyplot as plt"
   ]
  },
  {
   "cell_type": "code",
   "execution_count": null,
   "id": "difficult-expense",
   "metadata": {},
   "outputs": [],
   "source": [
    "TRAINDIR = os.path.join(os.path.join(\"../\", \"queries\"), \"synth_2d_gaussian100K\")\n",
    "TRAINDIR2 = os.path.join(os.path.join(\"../\", \"queries\"), \"synth_2d_gaussian10M\")"
   ]
  },
  {
   "cell_type": "code",
   "execution_count": null,
   "id": "rough-thread",
   "metadata": {},
   "outputs": [],
   "source": [
    "\n",
    "def load_qdata(fns):\n",
    "    qreps = []\n",
    "    for qfn in fns:\n",
    "        qrep = load_qrep(qfn)\n",
    "        # TODO: can do checks like no queries with zero cardinalities etc.\n",
    "        qreps.append(qrep)\n",
    "        template_name = os.path.basename(os.path.dirname(qfn))\n",
    "        qrep[\"name\"] = os.path.basename(qfn)\n",
    "        qrep[\"template_name\"] = template_name\n",
    "    return qreps\n",
    "\n",
    "def get_query_fns(basedir, template_fraction=1.0):\n",
    "    fns = []\n",
    "    tmpnames = list(glob.glob(os.path.join(basedir, \"*\")))\n",
    "    assert template_fraction <= 1.0\n",
    "    \n",
    "    for qi,qdir in enumerate(tmpnames):\n",
    "        if os.path.isfile(qdir):\n",
    "            continue\n",
    "        template_name = os.path.basename(qdir)\n",
    "        # let's first select all the qfns we are going to load\n",
    "        qfns = list(glob.glob(os.path.join(qdir, \"*.pkl\")))\n",
    "        qfns.sort()\n",
    "        num_samples = max(int(len(qfns)*template_fraction), 1)\n",
    "        random.seed(1234)\n",
    "        qfns = random.sample(qfns, num_samples)\n",
    "        fns += qfns\n",
    "    return fns"
   ]
  },
  {
   "cell_type": "code",
   "execution_count": null,
   "id": "sporting-alarm",
   "metadata": {},
   "outputs": [],
   "source": [
    "train_qfns = get_query_fns(TRAINDIR, template_fraction = 1.0)\n",
    "train_qfns2 = get_query_fns(TRAINDIR2, template_fraction = 1.0)\n",
    "trainqs = load_qdata(train_qfns)\n",
    "trainqs2 = load_qdata(train_qfns2)"
   ]
  },
  {
   "cell_type": "code",
   "execution_count": null,
   "id": "abandoned-period",
   "metadata": {},
   "outputs": [],
   "source": [
    "allcards = []\n",
    "allcards2 = []\n",
    "for query in trainqs:\n",
    "    for node in query[\"subset_graph\"].nodes():\n",
    "        cards = query[\"subset_graph\"].nodes()[node][\"cardinality\"]\n",
    "        if \"actual\" not in cards:\n",
    "            continue\n",
    "        y = cards[\"actual\"]\n",
    "        allcards.append(y)\n",
    "        \n",
    "for query in trainqs2:\n",
    "    for node in query[\"subset_graph\"].nodes():\n",
    "        cards = query[\"subset_graph\"].nodes()[node][\"cardinality\"]\n",
    "        if \"actual\" not in cards:\n",
    "            continue\n",
    "        y = cards[\"actual\"]\n",
    "        allcards2.append(y)"
   ]
  },
  {
   "cell_type": "code",
   "execution_count": null,
   "id": "aaa11753",
   "metadata": {},
   "outputs": [],
   "source": [
    "sns.distplot(allcards, kde=False)"
   ]
  },
  {
   "cell_type": "code",
   "execution_count": null,
   "id": "fd1501e8",
   "metadata": {},
   "outputs": [],
   "source": [
    "sns.distplot(allcards2, kde=False)"
   ]
  },
  {
   "cell_type": "code",
   "execution_count": null,
   "id": "83fd00bf",
   "metadata": {},
   "outputs": [],
   "source": []
  }
 ],
 "metadata": {
  "kernelspec": {
   "display_name": "Python 3 (ipykernel)",
   "language": "python",
   "name": "python3"
  },
  "language_info": {
   "codemirror_mode": {
    "name": "ipython",
    "version": 3
   },
   "file_extension": ".py",
   "mimetype": "text/x-python",
   "name": "python",
   "nbconvert_exporter": "python",
   "pygments_lexer": "ipython3",
   "version": "3.10.4"
  }
 },
 "nbformat": 4,
 "nbformat_minor": 5
}
