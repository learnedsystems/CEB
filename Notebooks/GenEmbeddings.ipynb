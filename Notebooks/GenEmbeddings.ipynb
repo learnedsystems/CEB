{
 "cells": [
  {
   "cell_type": "code",
   "execution_count": null,
   "id": "orange-devon",
   "metadata": {},
   "outputs": [],
   "source": [
    "%load_ext autoreload\n",
    "%autoreload 2\n",
    "\n",
    "import numpy as np\n",
    "import pandas as pd\n",
    "\n",
    "from cardinality_estimation.featurizer import Featurizer\n",
    "from query_representation.query import load_qrep\n",
    "\n",
    "import glob\n",
    "import random\n",
    "import os\n",
    "import json\n",
    "import time\n",
    "from collections import defaultdict"
   ]
  },
  {
   "cell_type": "code",
   "execution_count": null,
   "id": "difficult-expense",
   "metadata": {},
   "outputs": [],
   "source": [
    "#TRAINDIR = os.path.join(os.path.join(\"\", \"queries\"), \"mlsys1-train\")\n",
    "#TESTDIR = os.path.join(os.path.join(\"\", \"queries\"), \"mlsys1-train\")\n",
    "QDIR = os.path.join(os.path.join(\"\", \"queries\"), \"imdb-unique-plans\")"
   ]
  },
  {
   "cell_type": "code",
   "execution_count": null,
   "id": "rough-thread",
   "metadata": {},
   "outputs": [],
   "source": [
    "def load_qdata(fns):\n",
    "    qreps = []\n",
    "    for qfn in fns:\n",
    "        qrep = load_qrep(qfn)\n",
    "        # TODO: can do checks like no queries with zero cardinalities etc.\n",
    "        qreps.append(qrep)\n",
    "        template_name = os.path.basename(os.path.dirname(qfn))\n",
    "        qrep[\"name\"] = os.path.basename(qfn)\n",
    "        qrep[\"template_name\"] = template_name\n",
    "    return qreps\n",
    "\n",
    "def get_query_fns(basedir, template_fraction=1.0):\n",
    "    fns = []\n",
    "    tmpnames = list(glob.glob(os.path.join(basedir, \"*\")))\n",
    "    assert template_fraction <= 1.0\n",
    "    \n",
    "    for qi,qdir in enumerate(tmpnames):\n",
    "        if os.path.isfile(qdir):\n",
    "            continue\n",
    "        template_name = os.path.basename(qdir)\n",
    "        # let's first select all the qfns we are going to load\n",
    "        qfns = list(glob.glob(os.path.join(qdir, \"*.pkl\")))\n",
    "        qfns.sort()\n",
    "        num_samples = max(int(len(qfns)*template_fraction), 1)\n",
    "        random.seed(1234)\n",
    "        qfns = random.sample(qfns, num_samples)\n",
    "        fns += qfns\n",
    "    return fns"
   ]
  },
  {
   "cell_type": "code",
   "execution_count": null,
   "id": "sporting-alarm",
   "metadata": {},
   "outputs": [],
   "source": [
    "train_qfns = get_query_fns(QDIR, template_fraction = 1.0)\n",
    "trainqs = load_qdata(train_qfns)"
   ]
  },
  {
   "cell_type": "code",
   "execution_count": null,
   "id": "psychological-brush",
   "metadata": {},
   "outputs": [],
   "source": [
    "allconstants = defaultdict(set)\n",
    "constantmaxs = defaultdict(int)"
   ]
  },
  {
   "cell_type": "code",
   "execution_count": null,
   "id": "abandoned-period",
   "metadata": {},
   "outputs": [],
   "source": [
    "for query in trainqs:\n",
    "    for node in query[\"join_graph\"].nodes():\n",
    "        for ci, col in enumerate(query[\"join_graph\"].nodes()[node][\"pred_cols\"]):\n",
    "            consts = query[\"join_graph\"].nodes()[node][\"pred_vals\"][ci]\n",
    "            for const in consts:\n",
    "                allconstants[col].add(const)\n",
    "            if constantmaxs[col] < len(consts):\n",
    "                constantmaxs[col] = len(consts)"
   ]
  },
  {
   "cell_type": "code",
   "execution_count": null,
   "id": "premium-westminster",
   "metadata": {},
   "outputs": [],
   "source": [
    "import string\n",
    "\n",
    "def preprocess_word(word, exclude_nums=False, exclude_the=False,\n",
    "        exclude_words=[], min_len=0):\n",
    "    word = str(word)\n",
    "    # no punctuation\n",
    "    exclude = set(string.punctuation)\n",
    "    # exclude the as well\n",
    "    if exclude_the:\n",
    "        exclude.add(\"the\")\n",
    "    if exclude_nums:\n",
    "        for i in range(10):\n",
    "            exclude.add(str(i))\n",
    "\n",
    "    # exclude.remove(\"%\")\n",
    "    word = ''.join(ch for ch in word if ch not in exclude)\n",
    "\n",
    "    # make it lowercase\n",
    "    word = word.lower()\n",
    "    final_words = []\n",
    "\n",
    "    for w in word.split():\n",
    "        if w in exclude_words:\n",
    "            continue\n",
    "        if len(w) < min_len:\n",
    "            continue\n",
    "        final_words.append(w)\n",
    "\n",
    "    return \" \".join(final_words)"
   ]
  },
  {
   "cell_type": "code",
   "execution_count": null,
   "id": "historical-strategy",
   "metadata": {},
   "outputs": [],
   "source": [
    "from gensim.models import Word2Vec\n",
    "model_name = \"./sampled_data.bin\"\n",
    "model = Word2Vec.load(model_name)\n",
    "wv = model.wv\n",
    "print(model.get_latest_training_loss())\n",
    "print(model)\n",
    "del model"
   ]
  },
  {
   "cell_type": "code",
   "execution_count": null,
   "id": "employed-earth",
   "metadata": {},
   "outputs": [],
   "source": [
    "found = 0\n",
    "not_found = 0\n",
    "allvectors = {}\n",
    "\n",
    "for k,allvals in allconstants.items():\n",
    "    #print(k, len(allvals), constantmaxs[k])\n",
    "    for vals in allvals:\n",
    "        vals = preprocess_word(vals)\n",
    "        vecs = []\n",
    "        for subval in vals:\n",
    "            if subval in wv:\n",
    "                vecs.append(wv[subval])\n",
    "        if len(vecs) > 0:\n",
    "            found += 1\n",
    "            valkey = k + str(vals)\n",
    "            valvec = np.sum(np.array(vecs), axis=0)\n",
    "            #assert valkey not in allvectors\n",
    "#             if valkey in allvectors:\n",
    "#                 print(valkey)\n",
    "            allvectors[valkey] = valvec\n",
    "        else:\n",
    "            not_found += 1\n",
    "            \n",
    "\n",
    "\n",
    "print(found, not_found)"
   ]
  },
  {
   "cell_type": "code",
   "execution_count": null,
   "id": "stretch-interpretation",
   "metadata": {},
   "outputs": [],
   "source": [
    "np.sum(vecs, axis=0)"
   ]
  },
  {
   "cell_type": "code",
   "execution_count": null,
   "id": "regulated-floor",
   "metadata": {},
   "outputs": [],
   "source": [
    "list(allvectors.keys())[0:10]"
   ]
  },
  {
   "cell_type": "code",
   "execution_count": null,
   "id": "neither-giant",
   "metadata": {},
   "outputs": [],
   "source": [
    "import pickle\n",
    "#dump = pickle.dumps(allvectors)\n",
    "#d = pickle.loads(dump)\n",
    "#print(d.keys())\n",
    "with open('embeddings1.pkl', 'wb') as handle:\n",
    "    pickle.dump(allvectors, handle, protocol=pickle.HIGHEST_PROTOCOL)"
   ]
  },
  {
   "cell_type": "code",
   "execution_count": null,
   "id": "widespread-closure",
   "metadata": {},
   "outputs": [],
   "source": [
    "with open('embeddings1.pkl', 'rb') as handle:\n",
    "    b = pickle.load(handle)\n",
    "\n",
    "#print(b.keys())\n",
    "list(b.keys())[0:10]"
   ]
  },
  {
   "cell_type": "code",
   "execution_count": null,
   "id": "simple-manual",
   "metadata": {},
   "outputs": [],
   "source": []
  }
 ],
 "metadata": {
  "kernelspec": {
   "display_name": "Python 3",
   "language": "python",
   "name": "python3"
  },
  "language_info": {
   "codemirror_mode": {
    "name": "ipython",
    "version": 3
   },
   "file_extension": ".py",
   "mimetype": "text/x-python",
   "name": "python",
   "nbconvert_exporter": "python",
   "pygments_lexer": "ipython3",
   "version": "3.9.1"
  }
 },
 "nbformat": 4,
 "nbformat_minor": 5
}
