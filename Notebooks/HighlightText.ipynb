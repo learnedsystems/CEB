{
 "cells": [
  {
   "cell_type": "code",
   "execution_count": null,
   "id": "tropical-asbestos",
   "metadata": {},
   "outputs": [],
   "source": [
    "import matplotlib.pyplot as plt\n",
    "from highlight_text import HighlightText, ax_text, fig_text\n",
    "# or\n",
    "import highlight_text # then use highlight_text.ax_text or highlight_text.fig_text"
   ]
  },
  {
   "cell_type": "code",
   "execution_count": null,
   "id": "nominated-shirt",
   "metadata": {},
   "outputs": [],
   "source": [
    "fig, ax = plt.subplots()  \n",
    "\n",
    "# You can either create a HighlightText object\n",
    "HighlightText(x=0.0, y=0.5,\n",
    "              s='The weather is <sunny>\\nYesterday it was <cloudy>',\n",
    "              fontweight='normal',\n",
    "              fontsize=20,\n",
    "              highlight_textprops=[{\"color\": (0.7777777777777778, 0.12549019607843137, 0.1516339869281046, 1.0)},\n",
    "                                   {\"color\": (0.0, 0.40784313725490196, 0.21568627450980393, 1.0),\n",
    "                                    \"fontweight\":\"bold\"\n",
    "                                   }\n",
    "                                 \n",
    "                                  ],\n",
    "              \n",
    "              \n",
    "              ax=ax)\n",
    "ax.axis(\"off\")\n",
    "\n",
    "# You can use the wrapper around the class\n",
    "# ax_text(x = 0, y = 0.5,\n",
    "#         s='The weather is <sunny>\\nYesterday it was <cloudy>',\n",
    "#         highlight_textprops=[{\"color\": 'yellow'},\n",
    "#                              {\"color\": 'grey'}],\n",
    "#         ax=ax)"
   ]
  },
  {
   "cell_type": "code",
   "execution_count": null,
   "id": "enclosed-consistency",
   "metadata": {},
   "outputs": [],
   "source": [
    "import matplotlib.pyplot as plt\n",
    "cm = plt.cm.get_cmap('RdYlBu')\n",
    "xy = range(20)\n",
    "z = xy\n",
    "sc = plt.scatter(xy, xy, c=z, vmin=0, vmax=20, s=35, cmap=cm)\n",
    "plt.colorbar(sc)\n",
    "plt.show()"
   ]
  },
  {
   "cell_type": "code",
   "execution_count": null,
   "id": "universal-senator",
   "metadata": {},
   "outputs": [],
   "source": []
  }
 ],
 "metadata": {
  "kernelspec": {
   "display_name": "Python 3",
   "language": "python",
   "name": "python3"
  },
  "language_info": {
   "codemirror_mode": {
    "name": "ipython",
    "version": 3
   },
   "file_extension": ".py",
   "mimetype": "text/x-python",
   "name": "python",
   "nbconvert_exporter": "python",
   "pygments_lexer": "ipython3",
   "version": "3.9.9"
  }
 },
 "nbformat": 4,
 "nbformat_minor": 5
}
