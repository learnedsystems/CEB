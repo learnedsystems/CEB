{
 "cells": [
  {
   "cell_type": "code",
   "execution_count": null,
   "id": "metallic-philosophy",
   "metadata": {},
   "outputs": [],
   "source": [
    "import pandas as pd\n",
    "import numpy as np\n",
    "import pickle\n",
    "import sys\n",
    "sys.path.append(\"..\")\n",
    "#from query_representation.utils import *\n",
    "from utils import *\n",
    "import seaborn as sns\n",
    "import matplotlib.pyplot as plt\n",
    "import glob\n",
    "import os\n",
    "%load_ext autoreload\n",
    "%autoreload 2"
   ]
  },
  {
   "cell_type": "code",
   "execution_count": null,
   "id": "cordless-referral",
   "metadata": {},
   "outputs": [],
   "source": [
    "#RES_DIR = \"/Users/pari/prism-testbed/final_results/CEB/1gb-cache0\"\n",
    "#RES_DIR = \"/Users/pari/prism-testbed/final_results/data_updates/JOB/joblight\"\n",
    "\n",
    "#RES_DIR = \"/Users/pari/prism-testbed/debug_results/results-job-debug1\"\n",
    "RES_DIR = \"../ergast_baselines\"\n",
    "QDIR = \"../queries/ergast/\"\n",
    "\n",
    "#RES_DIR = \"/Users/pari/prism-testbed/final_results/data_updates/JOB/joblight\"\n",
    "#RES_DIR = \"/Users/pari/prism-testbed/final_results/data_updates/CEB/1a\""
   ]
  },
  {
   "cell_type": "code",
   "execution_count": null,
   "id": "07fbc997",
   "metadata": {},
   "outputs": [],
   "source": [
    "qname_to_template = {}\n",
    "for dirname in glob.iglob(QDIR + \"/*\"):\n",
    "    if not os.path.isdir(dirname):\n",
    "        continue\n",
    "    qfiles = os.listdir(dirname)\n",
    "    tmp_name = os.path.basename(dirname)\n",
    "    for qf in qfiles:\n",
    "        if \".pkl\" not in qf:\n",
    "            continue\n",
    "        assert qf not in qname_to_template\n",
    "        qname_to_template[qf] = tmp_name"
   ]
  },
  {
   "cell_type": "code",
   "execution_count": null,
   "id": "complicated-validity",
   "metadata": {},
   "outputs": [],
   "source": [
    "df = load_all_runtimes(RES_DIR, rt_kind=None)\n",
    "print(len(df))"
   ]
  },
  {
   "cell_type": "code",
   "execution_count": null,
   "id": "critical-silver",
   "metadata": {},
   "outputs": [],
   "source": [
    "df.head(5)"
   ]
  },
  {
   "cell_type": "code",
   "execution_count": null,
   "id": "residential-remark",
   "metadata": {},
   "outputs": [],
   "source": [
    "df.groupby([\"alg_dir\"])[\"runtime\"].describe(percentiles=[0.9, 0.99])"
   ]
  },
  {
   "cell_type": "code",
   "execution_count": null,
   "id": "green-partner",
   "metadata": {},
   "outputs": [],
   "source": [
    "# tmp = df[df[\"runtime\"] == -1]\n",
    "# tmp.groupby([\"alg_dir\"])[\"runtime\"].describe(percentiles=[0.9, 0.99])"
   ]
  },
  {
   "cell_type": "code",
   "execution_count": null,
   "id": "configured-introduction",
   "metadata": {},
   "outputs": [],
   "source": [
    "df.groupby([\"alg\"])[\"runtime\"].describe(percentiles=[0.9, 0.99])"
   ]
  },
  {
   "cell_type": "code",
   "execution_count": null,
   "id": "tight-retailer",
   "metadata": {},
   "outputs": [],
   "source": [
    "#df[\"runtime\"] /= 5.0\n",
    "df3 = df.groupby([\"alg\", \"alg_dir\"])[\"runtime\"].sum().reset_index()\n",
    "df3[\"runtime\"] *= 2.0\n",
    "df3.groupby([\"alg\"])[\"runtime\"].describe()"
   ]
  },
  {
   "cell_type": "code",
   "execution_count": null,
   "id": "plain-eight",
   "metadata": {},
   "outputs": [],
   "source": [
    "df.groupby([\"alg\"])[\"runtime\"].sum()"
   ]
  },
  {
   "cell_type": "code",
   "execution_count": null,
   "id": "treated-illustration",
   "metadata": {},
   "outputs": [],
   "source": [
    "df2 = df.groupby([\"alg\", \"qname\"])[\"runtime\"].mean().reset_index()\n",
    "df2.groupby([\"alg\"])[\"runtime\"].describe(percentiles=[0.9, 0.99])"
   ]
  },
  {
   "cell_type": "code",
   "execution_count": null,
   "id": "metropolitan-arabic",
   "metadata": {},
   "outputs": [],
   "source": [
    "df2.groupby([\"alg\"])[\"runtime\"].sum()"
   ]
  },
  {
   "cell_type": "code",
   "execution_count": null,
   "id": "amazing-royal",
   "metadata": {},
   "outputs": [],
   "source": [
    "df.keys()"
   ]
  },
  {
   "cell_type": "code",
   "execution_count": null,
   "id": "final-positive",
   "metadata": {},
   "outputs": [],
   "source": [
    "def get_template(qname):\n",
    "    if qname not in qname_to_template:\n",
    "        return \"Unknown\"\n",
    "    return qname_to_template[qname]\n",
    "#     if len(qname) <= 9:\n",
    "#         return qname[0:2]\n",
    "#     else:\n",
    "#         return \"9a\""
   ]
  },
  {
   "cell_type": "code",
   "execution_count": null,
   "id": "median-shopping",
   "metadata": {},
   "outputs": [],
   "source": [
    "df[\"template\"] = df.apply(lambda x: get_template(x[\"qname\"]),axis=1)"
   ]
  },
  {
   "cell_type": "code",
   "execution_count": null,
   "id": "norman-producer",
   "metadata": {},
   "outputs": [],
   "source": [
    "plt.figure(figsize=(10,6))\n",
    "sns.barplot(data=df, x=\"template\", y=\"runtime\", hue=\"alg\", estimator=np.mean, ci=None)\n",
    "plt.yscale(\"log\")"
   ]
  },
  {
   "cell_type": "code",
   "execution_count": null,
   "id": "4349297b",
   "metadata": {},
   "outputs": [],
   "source": [
    "plt.figure(figsize=(10,6))\n",
    "sns.barplot(data=df, x=\"template\", y=\"runtime\", hue=\"alg\", estimator=np.sum, ci=None)\n",
    "plt.yscale(\"log\")"
   ]
  },
  {
   "cell_type": "code",
   "execution_count": null,
   "id": "backed-collapse",
   "metadata": {},
   "outputs": [],
   "source": [
    "df[\"regex\"] = df.apply(lambda x: x[\"template\"] == \"9a\" ,axis=1)"
   ]
  },
  {
   "cell_type": "code",
   "execution_count": null,
   "id": "occupied-procedure",
   "metadata": {},
   "outputs": [],
   "source": [
    "sns.barplot(data=df, x=\"regex\", y=\"runtime\", estimator=np.sum)"
   ]
  },
  {
   "cell_type": "code",
   "execution_count": null,
   "id": "controlling-speaker",
   "metadata": {},
   "outputs": [],
   "source": [
    "df.groupby([\"alg_dir\", \"regex\"])[\"runtime\"].describe(percentiles=[0.9, 0.99])"
   ]
  },
  {
   "cell_type": "code",
   "execution_count": null,
   "id": "pleased-garden",
   "metadata": {},
   "outputs": [],
   "source": [
    "dfnoregex = df[df[\"template\"] != \"9a\"]"
   ]
  },
  {
   "cell_type": "code",
   "execution_count": null,
   "id": "colored-apparatus",
   "metadata": {},
   "outputs": [],
   "source": [
    "df.groupby(\"template\")[\"qname\"].count()"
   ]
  },
  {
   "cell_type": "code",
   "execution_count": null,
   "id": "graduate-universal",
   "metadata": {},
   "outputs": [],
   "source": [
    "df.groupby([\"regex\", \"alg_dir\"])[\"runtime\"].describe(percentiles=[0.9, 0.99])"
   ]
  },
  {
   "cell_type": "code",
   "execution_count": null,
   "id": "laden-glasgow",
   "metadata": {},
   "outputs": [],
   "source": []
  }
 ],
 "metadata": {
  "kernelspec": {
   "display_name": "Python 3 (ipykernel)",
   "language": "python",
   "name": "python3"
  },
  "language_info": {
   "codemirror_mode": {
    "name": "ipython",
    "version": 3
   },
   "file_extension": ".py",
   "mimetype": "text/x-python",
   "name": "python",
   "nbconvert_exporter": "python",
   "pygments_lexer": "ipython3",
   "version": "3.10.4"
  }
 },
 "nbformat": 4,
 "nbformat_minor": 5
}
