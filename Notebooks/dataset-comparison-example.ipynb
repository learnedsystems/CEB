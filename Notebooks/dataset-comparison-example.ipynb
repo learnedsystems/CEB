{
 "cells": [
  {
   "cell_type": "code",
   "execution_count": null,
   "id": "russian-syntax",
   "metadata": {},
   "outputs": [],
   "source": [
    "import os\n",
    "import pandas as pd\n",
    "from collections import defaultdict\n",
    "\n",
    "from IPython.display import HTML\n",
    "from IPython.display import display_html"
   ]
  },
  {
   "cell_type": "code",
   "execution_count": null,
   "id": "friendly-facial",
   "metadata": {},
   "outputs": [],
   "source": [
    "TPCDS_FN = \"tpcds_queries_df.csv\"\n",
    "JOB_FN = \"job_queries_df.csv\"\n",
    "CEB_FN = \"ceb_queries_df.csv\""
   ]
  },
  {
   "cell_type": "code",
   "execution_count": null,
   "id": "norman-target",
   "metadata": {},
   "outputs": [],
   "source": [
    "tpdf = pd.read_csv(TPCDS_FN)\n",
    "jobdf = pd.read_csv(JOB_FN)\n",
    "cebdf = pd.read_csv(CEB_FN)\n",
    "tpdf[\"dataset\"] = \"TPCDS\"\n",
    "jobdf[\"dataset\"] = \"JOB\"\n",
    "cebdf[\"dataset\"] = \"CEB\""
   ]
  },
  {
   "cell_type": "code",
   "execution_count": null,
   "id": "unlike-astronomy",
   "metadata": {},
   "outputs": [],
   "source": [
    "print(len(tpdf))\n",
    "print(len(jobdf))\n",
    "print(len(cebdf))"
   ]
  },
  {
   "cell_type": "code",
   "execution_count": null,
   "id": "upper-sister",
   "metadata": {},
   "outputs": [],
   "source": [
    "df = pd.concat([tpdf, jobdf, cebdf])"
   ]
  },
  {
   "cell_type": "code",
   "execution_count": null,
   "id": "funky-cedar",
   "metadata": {},
   "outputs": [],
   "source": [
    "print(df.keys())"
   ]
  },
  {
   "cell_type": "code",
   "execution_count": null,
   "id": "champion-preparation",
   "metadata": {},
   "outputs": [],
   "source": [
    "# HTML(df[[\"like_ops\", \"discrete_ops\", \"cont_ops\"]].\\\n",
    "#      describe(percentiles=[0.9,0.99]).reset_index().to_html(index=False))"
   ]
  },
  {
   "cell_type": "code",
   "execution_count": null,
   "id": "dutch-ultimate",
   "metadata": {},
   "outputs": [],
   "source": [
    "def pretty_print(df):\n",
    "    return display( HTML( df.to_html(index=False).replace(\"\\\\n\",\"<br>\") ) )"
   ]
  },
  {
   "cell_type": "code",
   "execution_count": null,
   "id": "played-darkness",
   "metadata": {},
   "outputs": [],
   "source": [
    "STATCOLS = [\"like_ops\", \"discrete_ops\", \"cont_ops\"]\n",
    "STATSTODROP = [\"std\", \"min\", \"max\", \"25%\", \"50%\",\"75%\"]\n",
    "curdrops = []\n",
    "\n",
    "for si, stc in enumerate(STATCOLS):\n",
    "    for sdrop in STATSTODROP:\n",
    "        curdrops.append(tuple([stc, sdrop]))\n",
    "    if si != 0:\n",
    "        curdrops.append(tuple([stc,\"count\"]))\n",
    "\n",
    "#cdf = df[[\"\"]]\n",
    "cdf = df[[\"dataset\",\"like_ops\", \"cont_ops\", \"discrete_ops\", \"in_ops\"]]\n",
    "\n",
    "pretty_print(cdf.groupby([\"dataset\"])[STATCOLS].describe().\\\n",
    "     reset_index().\\\n",
    "     drop(columns=curdrops).\\\n",
    "     rename(columns={\"like_ops\":\"LIKE\", \"discrete_ops\":\"Discrete\", \"cont_ops\":\"Continuous\",\n",
    "                    \"mean\":\"Fraction\"}).\\\n",
    "     round(3))"
   ]
  },
  {
   "cell_type": "code",
   "execution_count": null,
   "id": "offensive-warner",
   "metadata": {},
   "outputs": [],
   "source": [
    "discdf = df[df.discrete_ops == 1]\n",
    "\n",
    "tmp = discdf.groupby([\"dataset\",\"dkind\"]).count()[\"discrete_ops\"]\n",
    "tmp = tmp.groupby(level=0).apply(lambda x: 100 * x / float(x.sum()))\n",
    "\n",
    "# pretty_print(tmp.reset_index()\\\n",
    "#              .rename(columns={\"discrete_ops\":\"Percentage\"})\n",
    "#             )\n",
    "tmp = tmp.reset_index().set_index(['dataset', 'dkind']).rename(\n",
    "    columns={\"discrete_ops\":\"Percentage\"})\n",
    "tmp"
   ]
  },
  {
   "cell_type": "code",
   "execution_count": null,
   "id": "technological-darwin",
   "metadata": {},
   "outputs": [],
   "source": [
    "tmp = discdf.groupby([\"dataset\",\"dtype\"]).count()[\"discrete_ops\"]\n",
    "tmp = tmp.groupby(level=0).apply(lambda x: 100 * x / float(x.sum()))\n",
    "\n",
    "# pretty_print(tmp.reset_index()\\\n",
    "#              .rename(columns={\"discrete_ops\":\"Percentage\"})\n",
    "#             )\n",
    "\n",
    "tmp = tmp.reset_index().set_index(['dataset', 'dtype']).rename(\n",
    "    columns={\"discrete_ops\":\"Percentage\"})\n",
    "tmp"
   ]
  },
  {
   "cell_type": "code",
   "execution_count": null,
   "id": "coastal-conversation",
   "metadata": {},
   "outputs": [],
   "source": [
    "# tmp = discdf.groupby([\"dataset\",\"dtype\"]).count()[\"discrete_ops\"]\n",
    "# tmp = tmp.groupby(level=0).apply(lambda x: 100 * x / float(x.sum()))\n",
    "# tmp.reset_index()"
   ]
  },
  {
   "cell_type": "code",
   "execution_count": null,
   "id": "reserved-circumstances",
   "metadata": {},
   "outputs": [],
   "source": [
    "#ldf[\"val\"]\n",
    "def get_len(val):\n",
    "    val = val.replace(\"%\", \"\")\n",
    "    val = val.replace(\"'\", \"\")\n",
    "    return len(val)"
   ]
  },
  {
   "cell_type": "code",
   "execution_count": null,
   "id": "induced-storm",
   "metadata": {},
   "outputs": [],
   "source": [
    "ldf = df[df.like_ops == 1]\n",
    "#ldf.groupby(\"likekind\").count()[\"discrete_ops\"].reset_index().sort_values(by=\"discrete_ops\", ascending=False)\n",
    "\n",
    "ldf[\"Filter Length\"] = ldf.apply(lambda x: get_len(x[\"val\"]), axis=1)\n",
    "tmp = ldf.groupby([\"dataset\",\"likekind\"]).count()[\"discrete_ops\"]\n",
    "tmp = tmp.groupby(level=0).apply(lambda x: 100 * x / float(x.sum()))\n",
    "\n",
    "\n",
    "tmp = tmp.reset_index().set_index(['dataset', 'likekind']).rename(\n",
    "    columns={\"discrete_ops\":\"Percentage\"})\n",
    "tmp"
   ]
  },
  {
   "cell_type": "code",
   "execution_count": null,
   "id": "bacterial-observation",
   "metadata": {},
   "outputs": [],
   "source": [
    "tmp = ldf.groupby([\"dataset\",\"likekind\"])[[\"Filter Length\"]].describe(percentiles=[0.9])\n",
    "#tmp = tmp.groupby(level=0).apply(lambda x: 100 * x / float(x.sum()))\n",
    "DROPS = [\"std\", \"min\", \"max\"]\n",
    "dc = []\n",
    "for dr in DROPS:\n",
    "    dc.append((\"Filter Length\", dr))\n",
    "\n",
    "tmp = tmp.reset_index().set_index(['dataset', 'likekind']).rename(\n",
    "    columns={}).drop(columns=dc)\n",
    "tmp"
   ]
  },
  {
   "cell_type": "code",
   "execution_count": null,
   "id": "organized-tutorial",
   "metadata": {},
   "outputs": [],
   "source": []
  },
  {
   "cell_type": "code",
   "execution_count": null,
   "id": "organic-passport",
   "metadata": {},
   "outputs": [],
   "source": [
    "#ldf = df[df.like_ops == 1]\n",
    "\n",
    "#ldf[\"likedtype\"] = ldf.apply(lambda x: if x[\"likedtype\"] == -1: then ,axis=1)\n",
    "\n",
    "ldtypes = []\n",
    "for idx,row in ldf.iterrows():\n",
    "    if row[\"likedtype\"] == \"-1\" or row[\"likedtype\"] == -1 or row[\"likedtype\"] == \"-1.0\":\n",
    "        ldtypes.append(\"unknown\")\n",
    "    else:\n",
    "        ldtypes.append(row[\"likedtype\"])\n",
    "ldf[\"likedtype\"] = ldtypes\n",
    "\n",
    "tmp = ldf.groupby([\"dataset\",\"likedtype\"]).count()[\"discrete_ops\"]\n",
    "tmp = tmp.groupby(level=0).apply(lambda x: 100 * x / float(x.sum()))\n",
    "tmp = tmp.reset_index().set_index(['dataset', 'likedtype']).rename(\n",
    "    columns={\"discrete_ops\":\"Percentage\"})\n",
    "tmp"
   ]
  },
  {
   "cell_type": "code",
   "execution_count": null,
   "id": "juvenile-electronics",
   "metadata": {},
   "outputs": [],
   "source": [
    "#inpdata.groupby(\"col\").count().reset_index()[\"val\"].describe(percentiles=[0.75,0.9,0.99])"
   ]
  },
  {
   "cell_type": "code",
   "execution_count": null,
   "id": "combined-debate",
   "metadata": {},
   "outputs": [],
   "source": [
    "allinpdata = defaultdict(list)\n",
    "for idx, row in df.iterrows():\n",
    "    op = row[\"op\"]\n",
    "    if op in [\"=\", \"!=\"]:\n",
    "        allinpdata[\"col\"].append(row[\"col\"])\n",
    "        allinpdata[\"val\"].append(row[\"val\"])\n",
    "        allinpdata[\"dataset\"].append(row[\"dataset\"])\n",
    "\n",
    "    elif op == \"in\":\n",
    "        if \"select\" in row[\"val\"]:\n",
    "            pass\n",
    "        else:\n",
    "            cvals = row[\"val\"]\n",
    "            cvals = cvals.replace(\"(\", \"\")\n",
    "            cvals = cvals.replace(\")\", \"\")\n",
    "            cvals = cvals.split(\",\")\n",
    "            for cval in cvals:\n",
    "                allinpdata[\"dataset\"].append(row[\"dataset\"])\n",
    "                allinpdata[\"col\"].append(row[\"col\"])\n",
    "                allinpdata[\"val\"].append(cval)"
   ]
  },
  {
   "cell_type": "code",
   "execution_count": null,
   "id": "authorized-length",
   "metadata": {},
   "outputs": [],
   "source": [
    "inpdata = pd.DataFrame(allinpdata)\n",
    "print(len(inpdata))\n",
    "inpdata = inpdata.drop_duplicates()\n",
    "inpdata = inpdata[inpdata[\"col\"] != \"function\"]\n",
    "print(len(inpdata))\n",
    "print(len(set(inpdata[\"col\"])))\n",
    "print(set(inpdata[\"col\"]))"
   ]
  },
  {
   "cell_type": "code",
   "execution_count": null,
   "id": "blind-revolution",
   "metadata": {},
   "outputs": [],
   "source": [
    "inpdata.groupby(\"col\").count().reset_index()[\"val\"].describe(percentiles=[0.75,0.9,0.99])"
   ]
  },
  {
   "cell_type": "code",
   "execution_count": null,
   "id": "official-applicant",
   "metadata": {},
   "outputs": [],
   "source": [
    "STATCOLS = [\"like_ops\", \"discrete_ops\", \"cont_ops\"]\n",
    "STATSTODROP = [\"std\", \"min\", \"max\", \"25%\", \"50%\",\"75%\"]\n",
    "curdrops = []\n",
    "\n",
    "pretty_print(\n",
    "    inpdata.groupby([\"dataset\", \"col\"]).nunique().reset_index()[[\"dataset\",\"val\"]]\\\n",
    "    .groupby([\"dataset\"])[[\"val\"]].describe(percentiles=[0.75,0.9,0.99]).reset_index()\\\n",
    "    .rename(columns={\"count\":\"Total \\\\n Columns\", \"val\":\"Number of unique constants\"})\\\n",
    "    .round(3)\n",
    ")"
   ]
  }
 ],
 "metadata": {
  "kernelspec": {
   "display_name": "Python 3",
   "language": "python",
   "name": "python3"
  },
  "language_info": {
   "codemirror_mode": {
    "name": "ipython",
    "version": 3
   },
   "file_extension": ".py",
   "mimetype": "text/x-python",
   "name": "python",
   "nbconvert_exporter": "python",
   "pygments_lexer": "ipython3",
   "version": "3.9.9"
  }
 },
 "nbformat": 4,
 "nbformat_minor": 5
}
