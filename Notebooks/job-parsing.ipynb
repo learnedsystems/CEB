{
 "cells": [
  {
   "cell_type": "code",
   "execution_count": null,
   "id": "engaged-government",
   "metadata": {},
   "outputs": [],
   "source": [
    "%load_ext autoreload\n",
    "%autoreload 2\n",
    "\n",
    "import numpy as np\n",
    "import pandas as pd\n",
    "\n",
    "from cardinality_estimation.featurizer import Featurizer\n",
    "from query_representation.query import load_qrep\n",
    "from cardinality_estimation.dataset import *\n",
    "from torch.utils import data\n",
    "\n",
    "import glob\n",
    "import random\n",
    "import os\n",
    "import json\n",
    "import time\n",
    "import matplotlib.pyplot as plt"
   ]
  },
  {
   "cell_type": "markdown",
   "id": "selected-separate",
   "metadata": {},
   "source": [
    "# Setup file paths / Download query data"
   ]
  },
  {
   "cell_type": "code",
   "execution_count": null,
   "id": "perfect-surgery",
   "metadata": {},
   "outputs": [],
   "source": [
    "import errno\n",
    "def make_dir(directory):\n",
    "    try:\n",
    "        os.makedirs(directory)\n",
    "    except OSError as e:\n",
    "        if e.errno != errno.EEXIST:\n",
    "            raise"
   ]
  },
  {
   "cell_type": "code",
   "execution_count": null,
   "id": "hidden-somalia",
   "metadata": {},
   "outputs": [],
   "source": [
    "# TODO\n",
    "# TRAINDIR = os.path.join(os.path.join(\"\", \"queries\"), \"mlsys1-train\")\n",
    "# VALDIR = os.path.join(os.path.join(\"\", \"queries\"), \"mlsys1-val\")\n",
    "# TESTDIR = os.path.join(os.path.join(\"\", \"queries\"), \"mlsys1-test\")\n",
    "\n",
    "#TRAINDIR = os.path.join(os.path.join(\"\", \"queries\"), \"imdb\")\n",
    "\n",
    "BASEDIR = \"/home/pari/learned-cardinalities/\"\n",
    "TRAINDIR = os.path.join(os.path.join(BASEDIR, \"queries\"), \"job2\")\n",
    "\n",
    "TESTDIR = os.path.join(os.path.join(\"\", \"queries\"), \"imdb\")\n",
    "\n",
    "RESULTDIR = os.path.join(\"\", \"results\")\n",
    "make_dir(RESULTDIR)"
   ]
  },
  {
   "cell_type": "markdown",
   "id": "opposite-collaboration",
   "metadata": {},
   "source": [
    "# Query loading helper functions"
   ]
  },
  {
   "cell_type": "code",
   "execution_count": null,
   "id": "hollywood-flood",
   "metadata": {},
   "outputs": [],
   "source": [
    "\n",
    "def load_qdata(fns):\n",
    "    qreps = []\n",
    "    for qfn in fns:\n",
    "        qrep = load_qrep(qfn)\n",
    "        # TODO: can do checks like no queries with zero cardinalities etc.\n",
    "        qreps.append(qrep)\n",
    "        template_name = os.path.basename(os.path.dirname(qfn))\n",
    "        qrep[\"name\"] = os.path.basename(qfn)\n",
    "        qrep[\"template_name\"] = template_name\n",
    "    return qreps\n",
    "\n",
    "def get_query_fns(basedir, template_fraction=1.0, sel_templates=None):\n",
    "    fns = []\n",
    "    tmpnames = list(glob.glob(os.path.join(basedir, \"*\")))\n",
    "    assert template_fraction <= 1.0\n",
    "    \n",
    "    for qi,qdir in enumerate(tmpnames):\n",
    "        if os.path.isfile(qdir):\n",
    "            continue\n",
    "        template_name = os.path.basename(qdir)\n",
    "        \n",
    "        if sel_templates is not None and template_name not in sel_templates:\n",
    "            continue\n",
    "        # let's first select all the qfns we are going to load\n",
    "        qfns = list(glob.glob(os.path.join(qdir, \"*.pkl\")))\n",
    "        qfns.sort()\n",
    "        num_samples = max(int(len(qfns)*template_fraction), 1)\n",
    "        random.seed(1234)\n",
    "        qfns = random.sample(qfns, num_samples)\n",
    "        fns += qfns\n",
    "    return fns"
   ]
  },
  {
   "cell_type": "markdown",
   "id": "lucky-omaha",
   "metadata": {},
   "source": [
    "# Load queries"
   ]
  },
  {
   "cell_type": "code",
   "execution_count": null,
   "id": "e5b00ec2",
   "metadata": {},
   "outputs": [],
   "source": [
    "# set template_fraction <= 1.0 to test quickly w/ smaller datasets\n",
    "# train_qfns = get_query_fns(TRAINDIR, template_fraction = 0.001)\n",
    "# val_qfns = get_query_fns(VALDIR, template_fraction = 1.0)\n",
    "# test_qfns = get_query_fns(TESTDIR, template_fraction = 1.0)\n",
    "\n",
    "train_qfns = get_query_fns(TRAINDIR, template_fraction = 1.0, sel_templates=[\"all_job\"])\n",
    "#train_qfns = get_query_fns(TRAINDIR, template_fraction = 1.0, sel_templates=None)\n",
    "\n",
    "#train_qfns = get_query_fns(TRAINDIR, template_fraction = 0.1, sel_templates=None)\n",
    "val_qfns = []\n",
    "#test_qfns = get_query_fns(TESTDIR, template_fraction = 1.0, sel_templates=[\"2a\"])\n",
    "test_qfns = []\n",
    "print(\"Selected {} training queries, {} validation queries, {} test queries\".\\\n",
    "      format(len(train_qfns), len(val_qfns), len(test_qfns)))"
   ]
  },
  {
   "cell_type": "code",
   "execution_count": null,
   "id": "b70dbe2a",
   "metadata": {},
   "outputs": [],
   "source": [
    "TRAINDIR"
   ]
  },
  {
   "cell_type": "code",
   "execution_count": null,
   "id": "734edcff",
   "metadata": {},
   "outputs": [],
   "source": [
    "# going to start training the models\n",
    "trainqs = load_qdata(train_qfns)"
   ]
  },
  {
   "cell_type": "code",
   "execution_count": null,
   "id": "13300097",
   "metadata": {},
   "outputs": [],
   "source": [
    "import sqlparse"
   ]
  },
  {
   "cell_type": "code",
   "execution_count": null,
   "id": "4c6665b6",
   "metadata": {},
   "outputs": [],
   "source": [
    "for qrep in trainqs:\n",
    "    sql = qrep[\"sql\"]\n",
    "    #if \"!=\" in sql:\n",
    "#     if \"ci.note\" in sql:\n",
    "\n",
    "#     if \"!=\" in sql.lower():\n",
    "#         print(qrep[\"name\"])\n",
    "#         #print(sqlparse.format(sql, reindent=True, keyword_case='upper'))\n",
    "#         sqllines = sql.split(\"\\n\")\n",
    "#         for l in sqllines:\n",
    "#             if \"!=\" in l:\n",
    "#                 print(l)\n",
    "                \n",
    "    if \"= '[us]'\" in sql.lower():\n",
    "        print(qrep[\"name\"])\n",
    "        print(sqlparse.format(sql, reindent=True, keyword_case='upper'))\n",
    "    \n",
    "    jg = qrep[\"join_graph\"]\n",
    "    for node, data in jg.nodes(data=True):\n",
    "        if len(data[\"predicates\"]) == 0:\n",
    "            #print(node, \"No Predicates\")\n",
    "            continue\n",
    "            \n",
    "#         for di, pred in enumerate(data[\"pred_vals\"]):\n",
    "#             if \"ci\" in data[\"pred_cols\"][di]:\n",
    "#                 print(\"{} {} {}\".format(data[\"pred_cols\"][di], data[\"pred_types\"][di], data[\"pred_vals\"][di]))\n",
    "            \n",
    "#         for di, pred in enumerate(data[\"predicates\"]):\n",
    "#             if \"!=\" in data[\"predicates\"][di]:\n",
    "#                 print(data[\"predicates\"][di])\n",
    "                \n",
    "#                 print(data[\"predicates\"])\n",
    "#                 print(data[\"pred_cols\"])\n",
    "#                 print(data[\"pred_vals\"])\n",
    "    \n",
    "    print(\"******************\")"
   ]
  },
  {
   "cell_type": "code",
   "execution_count": null,
   "id": "e62b794d",
   "metadata": {},
   "outputs": [],
   "source": [
    "alljoinys = []\n",
    "pg_alljoinys = []\n",
    "\n",
    "for qrep in trainqs:\n",
    "    #jg = qrep[\"join_graph\"]\n",
    "    for ed in qrep[\"subset_graph\"].edges(data=True):\n",
    "        data = ed[2]\n",
    "        if \"join_key_cardinality\" not in data:\n",
    "            continue\n",
    "            \n",
    "        for k,v in data[\"join_key_cardinality\"].items():\n",
    "            alljoinys.append(v[\"actual\"])\n",
    "            pg_alljoinys.append(v[\"expected\"])"
   ]
  },
  {
   "cell_type": "code",
   "execution_count": null,
   "id": "d4ac5a00",
   "metadata": {},
   "outputs": [],
   "source": [
    "print(np.corrcoef(alljoinys, pg_alljoinys)[0,1])\n",
    "#print(np.corrcoef(regexys, pg_regexys)[0,1])"
   ]
  },
  {
   "cell_type": "code",
   "execution_count": null,
   "id": "9672d8eb",
   "metadata": {},
   "outputs": [],
   "source": [
    "import matplotlib.pyplot as plt\n",
    "import seaborn as sns\n",
    "\n",
    "sns.distplot(alljoinys, kde=False, bins=10000)\n",
    "plt.yscale(\"log\")\n",
    "plt.xlim([0, 1*1e6])"
   ]
  },
  {
   "cell_type": "code",
   "execution_count": null,
   "id": "46ca4643",
   "metadata": {},
   "outputs": [],
   "source": [
    "sns.scatterplot(x=alljoinys, y=pg_alljoinys)\n",
    "plt.xlim([0, 1*1e6])\n",
    "plt.ylim([0, 1*1e6])"
   ]
  },
  {
   "cell_type": "code",
   "execution_count": null,
   "id": "fed05cf0",
   "metadata": {},
   "outputs": [],
   "source": [
    "sns.scatterplot(x=alljoinys, y=pg_alljoinys)\n",
    "plt.xscale(\"log\")\n",
    "plt.yscale(\"log\")"
   ]
  },
  {
   "cell_type": "code",
   "execution_count": null,
   "id": "e64739e4",
   "metadata": {},
   "outputs": [],
   "source": []
  },
  {
   "cell_type": "code",
   "execution_count": null,
   "id": "457a1076",
   "metadata": {},
   "outputs": [],
   "source": []
  },
  {
   "cell_type": "code",
   "execution_count": null,
   "id": "23de1f01",
   "metadata": {},
   "outputs": [],
   "source": []
  },
  {
   "cell_type": "code",
   "execution_count": null,
   "id": "42e58c10",
   "metadata": {},
   "outputs": [],
   "source": [
    "allys = []\n",
    "regexys = []\n",
    "nonregexys = []\n",
    "\n",
    "pg_allys = []\n",
    "pg_regexys = []\n",
    "pg_nonregexys = []\n",
    "\n",
    "regex_single = []\n",
    "nonregex_single = []\n",
    "\n",
    "pg_regex_single = []\n",
    "pg_nonregex_single = []\n",
    "\n",
    "allselys = []\n",
    "regexselys = []\n",
    "nonregexselys = []\n",
    "\n",
    "pg_allselys = []\n",
    "pg_regexselys = []\n",
    "pg_nonregexselys = []\n",
    "\n",
    "TIMEOUT_CARD = 150001000000\n",
    "\n",
    "for qrep in trainqs:\n",
    "    jg = qrep[\"join_graph\"]\n",
    "    for node,data in qrep[\"subset_graph\"].nodes(data=True):\n",
    "        actual = data[\"cardinality\"][\"actual\"]\n",
    "        pg = data[\"cardinality\"][\"expected\"]\n",
    "        total = float(data[\"cardinality\"][\"total\"])\n",
    "        \n",
    "        if actual >= TIMEOUT_CARD or pg >= TIMEOUT_CARD:\n",
    "            continue\n",
    "        \n",
    "        allys.append(actual)\n",
    "        allselys.append(actual/total)\n",
    "        \n",
    "        pg_allys.append(pg)\n",
    "        pg_allselys.append(pg/total)\n",
    "        \n",
    "        is_regex = False\n",
    "        \n",
    "        for alias in node:\n",
    "            for pt in jg.nodes()[alias][\"pred_types\"]:\n",
    "                if \"like\" in pt:\n",
    "                    is_regex = True\n",
    "                    break\n",
    "            if is_regex:\n",
    "                regexys.append(actual)\n",
    "                pg_regexys.append(pg)\n",
    "                \n",
    "                regexselys.append(actual/total)\n",
    "                pg_regexselys.append(pg/total)\n",
    "            else:\n",
    "                nonregexys.append(actual)\n",
    "                pg_nonregexys.append(pg)\n",
    "                \n",
    "                nonregexselys.append(actual/total)\n",
    "                pg_nonregexselys.append(pg/total)\n",
    "                \n",
    "                        \n",
    "        if len(node) == 1:\n",
    "            if is_regex:\n",
    "                regex_single.append(actual)\n",
    "                pg_regex_single.append(pg)\n",
    "            else:\n",
    "                nonregex_single.append(actual)\n",
    "                pg_nonregex_single.append(pg)"
   ]
  },
  {
   "cell_type": "code",
   "execution_count": null,
   "id": "b228f695",
   "metadata": {},
   "outputs": [],
   "source": [
    "print(np.corrcoef(nonregex_single, pg_nonregex_single)[0,1])\n",
    "print(np.corrcoef(nonregexys, pg_nonregexys)[0,1])\n",
    "\n",
    "print(np.corrcoef(regex_single, pg_regex_single)[0,1])\n",
    "print(np.corrcoef(regexys, pg_regexys)[0,1])"
   ]
  },
  {
   "cell_type": "code",
   "execution_count": null,
   "id": "38afee25",
   "metadata": {},
   "outputs": [],
   "source": [
    "print(np.max(regexys), np.max(nonregexys))\n",
    "# JOB MAX: 5607347034.0 5607347034.0"
   ]
  },
  {
   "cell_type": "code",
   "execution_count": null,
   "id": "f363524e",
   "metadata": {},
   "outputs": [],
   "source": [
    "TIMEOUT_CARD - 23795596119"
   ]
  },
  {
   "cell_type": "code",
   "execution_count": null,
   "id": "45aeb44e",
   "metadata": {},
   "outputs": [],
   "source": [
    "TIMEOUT_CARD - 5607347034.0"
   ]
  },
  {
   "cell_type": "code",
   "execution_count": null,
   "id": "0d6b2433",
   "metadata": {},
   "outputs": [],
   "source": [
    "import matplotlib.pyplot as plt\n",
    "import seaborn as sns\n",
    "\n",
    "sns.distplot(allys, kde=False)\n",
    "plt.yscale(\"log\")\n",
    "#plt.xscale(\"log\")"
   ]
  },
  {
   "cell_type": "code",
   "execution_count": null,
   "id": "54a233c1",
   "metadata": {},
   "outputs": [],
   "source": [
    "import matplotlib.pyplot as plt\n",
    "import seaborn as sns\n",
    "\n",
    "sns.distplot(allys, kde=False, bins=10000)\n",
    "plt.yscale(\"log\")\n",
    "plt.xlim([0,1e6])\n",
    "#plt.xscale(\"log\")"
   ]
  },
  {
   "cell_type": "code",
   "execution_count": null,
   "id": "7822ea97",
   "metadata": {},
   "outputs": [],
   "source": [
    "sns.distplot(pg_allys, kde=False)\n",
    "plt.yscale(\"log\")"
   ]
  },
  {
   "cell_type": "code",
   "execution_count": null,
   "id": "f08685d6",
   "metadata": {},
   "outputs": [],
   "source": [
    "sns.distplot(allselys, kde=False)\n",
    "plt.yscale(\"log\")"
   ]
  },
  {
   "cell_type": "code",
   "execution_count": null,
   "id": "bb7c3fcc",
   "metadata": {},
   "outputs": [],
   "source": [
    "sns.distplot(pg_allselys, kde=False)\n",
    "plt.yscale(\"log\")"
   ]
  },
  {
   "cell_type": "code",
   "execution_count": null,
   "id": "374e0f8a",
   "metadata": {},
   "outputs": [],
   "source": [
    "sns.distplot(regexys, kde=False)\n",
    "plt.yscale(\"log\")"
   ]
  },
  {
   "cell_type": "code",
   "execution_count": null,
   "id": "9266fb76",
   "metadata": {},
   "outputs": [],
   "source": [
    "sns.distplot(pg_regexys, kde=False)\n",
    "plt.yscale(\"log\")"
   ]
  },
  {
   "cell_type": "code",
   "execution_count": null,
   "id": "e69bec87",
   "metadata": {},
   "outputs": [],
   "source": [
    "sns.distplot(nonregexys, kde=False)\n",
    "plt.yscale(\"log\")"
   ]
  },
  {
   "cell_type": "code",
   "execution_count": null,
   "id": "8791a3c7",
   "metadata": {},
   "outputs": [],
   "source": [
    "sns.distplot(pg_nonregexys, kde=False)\n",
    "plt.yscale(\"log\")"
   ]
  },
  {
   "cell_type": "code",
   "execution_count": null,
   "id": "4c4293a7",
   "metadata": {},
   "outputs": [],
   "source": [
    "sns.scatterplot(x=allys, y=pg_allys)\n",
    "\n",
    "plt.xlim([0, 1*1e8])\n",
    "plt.ylim([0, 1*1e8])"
   ]
  },
  {
   "cell_type": "code",
   "execution_count": null,
   "id": "ac626328",
   "metadata": {},
   "outputs": [],
   "source": [
    "sns.scatterplot(x=regexys, y=pg_regexys, alpha=0.05)\n",
    "# plt.xlim([0, 0.2*1e9])\n",
    "# plt.ylim([0, 0.2*1e9])\n",
    "\n",
    "# plt.xlim([0, 0.2*1e8])\n",
    "# plt.ylim([0, 0.2*1e8])\n",
    "\n",
    "plt.yscale(\"log\")\n",
    "plt.xscale(\"log\")"
   ]
  },
  {
   "cell_type": "code",
   "execution_count": null,
   "id": "6c234732",
   "metadata": {},
   "outputs": [],
   "source": [
    "sns.scatterplot(x=nonregexys, y=pg_nonregexys, alpha=0.05)\n",
    "plt.yscale(\"log\")\n",
    "plt.xscale(\"log\")\n",
    "# plt.xlim([0, 0.2*1e9])\n",
    "# plt.ylim([0, 0.2*1e9])\n",
    "# plt.xlim([0, 0.2*1e8])\n",
    "# plt.ylim([0, 0.2*1e8])"
   ]
  },
  {
   "cell_type": "code",
   "execution_count": null,
   "id": "f6a0ed23",
   "metadata": {},
   "outputs": [],
   "source": [
    "sns.scatterplot(x=regex_single, y=pg_regex_single)\n",
    "plt.xlim([0, 1e6])\n",
    "plt.ylim([0, 1e6])"
   ]
  },
  {
   "cell_type": "code",
   "execution_count": null,
   "id": "71da6d8e",
   "metadata": {},
   "outputs": [],
   "source": [
    "sns.scatterplot(x=nonregex_single, y=pg_nonregex_single)\n",
    "plt.xlim([0, 1e6])\n",
    "plt.ylim([0, 1e6])"
   ]
  },
  {
   "cell_type": "code",
   "execution_count": null,
   "id": "b7fc6043",
   "metadata": {},
   "outputs": [],
   "source": [
    "sns.scatterplot(x=allselys, y=pg_allselys, alpha=0.05)\n",
    "plt.yscale(\"log\")\n",
    "plt.xscale(\"log\")\n",
    "# plt.xlim([0, 0.005])\n",
    "# plt.ylim([0, 0.005])"
   ]
  },
  {
   "cell_type": "code",
   "execution_count": null,
   "id": "fcd63889",
   "metadata": {},
   "outputs": [],
   "source": [
    "sns.scatterplot(x=regexselys, y=pg_regexselys, alpha=0.05)\n",
    "plt.yscale(\"log\")\n",
    "plt.xscale(\"log\")\n",
    "# plt.xlim([0, 0.005])\n",
    "# plt.ylim([0, 0.005])"
   ]
  },
  {
   "cell_type": "code",
   "execution_count": null,
   "id": "9c7e502d",
   "metadata": {},
   "outputs": [],
   "source": [
    "sns.scatterplot(x=nonregexselys, y=pg_nonregexselys, alpha=0.05)\n",
    "#plt.xlim([0, 0.0001])\n",
    "#plt.ylim([0, 0.0001])\n",
    "plt.yscale(\"log\")\n",
    "plt.xscale(\"log\")\n",
    "# plt.xlim([0, 0.0001])\n",
    "# plt.ylim([0, 0.0001])"
   ]
  },
  {
   "cell_type": "code",
   "execution_count": null,
   "id": "e5c0939d",
   "metadata": {},
   "outputs": [],
   "source": [
    "np.log(allselys)"
   ]
  },
  {
   "cell_type": "code",
   "execution_count": null,
   "id": "89f46814",
   "metadata": {},
   "outputs": [],
   "source": []
  }
 ],
 "metadata": {
  "kernelspec": {
   "display_name": "Python 3 (ipykernel)",
   "language": "python",
   "name": "python3"
  },
  "language_info": {
   "codemirror_mode": {
    "name": "ipython",
    "version": 3
   },
   "file_extension": ".py",
   "mimetype": "text/x-python",
   "name": "python",
   "nbconvert_exporter": "python",
   "pygments_lexer": "ipython3",
   "version": "3.9.7"
  }
 },
 "nbformat": 4,
 "nbformat_minor": 5
}
