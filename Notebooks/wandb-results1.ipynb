{
 "cells": [
  {
   "cell_type": "code",
   "execution_count": null,
   "id": "alert-lobby",
   "metadata": {},
   "outputs": [],
   "source": [
    "import wandb\n",
    "from collections import defaultdict\n",
    "import pandas as pd\n",
    "import numpy as np\n",
    "\n",
    "import random\n",
    "\n",
    "import seaborn as sns\n",
    "import matplotlib.pyplot as plt\n",
    "from IPython.display import HTML\n",
    "from IPython.display import display_html\n",
    "\n",
    "%load_ext autoreload\n",
    "%autoreload 2"
   ]
  },
  {
   "cell_type": "code",
   "execution_count": null,
   "id": "ongoing-subsection",
   "metadata": {},
   "outputs": [],
   "source": [
    "COLORS = {}\n",
    "COLORS[\"MSCN\"] = \"#4260f5\"\n",
    "COLORS[\"MSCN (Ours)\"] = \"Green\""
   ]
  },
  {
   "cell_type": "code",
   "execution_count": null,
   "id": "entertaining-parameter",
   "metadata": {},
   "outputs": [],
   "source": [
    "api = wandb.Api()"
   ]
  },
  {
   "cell_type": "code",
   "execution_count": null,
   "id": "fatal-journey",
   "metadata": {},
   "outputs": [],
   "source": [
    "# runs = api.runs(\"pari/skdwda-pari\",\n",
    "#     {\"$or\": [\n",
    "#        {\"config.algs\": \"dqo\"},\n",
    "#        #{\"config.wandb_tags\":\"run_all,final1\"},\n",
    "#        #{\"config.wandb_tags\":\"run_all,final2\"},\n",
    "#        {\"config.wandb_tags\":\"run_all,final2-fixedBestVal\"}\n",
    "#     ]\n",
    "#     })\n",
    "\n",
    "runs = api.runs(\"pari/MyCEB\",\n",
    "    {\"$and\": [\n",
    "       {\"config.algs\": \"mscn\"},\n",
    "       {\"config.train_test_split_kind\":\"custom\"},\n",
    "       #{\"tags\":\"v17\"},\n",
    "       {\"tags\":\"new-custom-runs\"},\n",
    "       {\"config.max_discrete_featurizing_buckets\":10},\n",
    "       {\"config.query_dir\":\"queries/imdb\"}\n",
    "    ]\n",
    "    })\n",
    "print(f\"Found {len(runs)} runs\")"
   ]
  },
  {
   "cell_type": "code",
   "execution_count": null,
   "id": "altered-coral",
   "metadata": {},
   "outputs": [],
   "source": [
    "# TRAIN_TMPS=\"2b\"\n",
    "# SEP=1\n",
    "# BINS=30\n",
    "# EMB_FN=\"none\"\n",
    "# DECAY=0\n",
    "\n",
    "KEYNAMES = [\"train_tmps\", \"test_tmps\", \"max_discrete_featurizing_buckets\", \"embedding_fn\", \n",
    "            \"weight_decay\", \"feat_onlyseen_preds\", \"loss_func_name\", \"feat_separate_alias\"]\n",
    "#VALS = [\"1a\", \"2a,2b\", 10, \"none\", 0, 1, \"mse\", 0]\n",
    "VALS = [\"2b\", \"2a\", 10, \"none\", 0, 1, \"mse\", 0]\n",
    "\n",
    "if VALS[0] == \"2b\":\n",
    "    PG_BASELINE_VAL = 8.849\n",
    "    PG_BASELINE_COST = 7.599\n",
    "elif VALS[0] == \"1a\":\n",
    "    PG_BASELINE_VAL = 4.433\n",
    "    PG_BASELINE_COST = 8.004\n",
    "else:\n",
    "    assert False\n",
    "    \n",
    "SAVE_DIR = \"Users/pari/Desktop/\""
   ]
  },
  {
   "cell_type": "code",
   "execution_count": null,
   "id": "recent-collaboration",
   "metadata": {},
   "outputs": [],
   "source": [
    "import time\n",
    "start = time.time()\n",
    "summary_list, config_list, name_list = [], [], []\n",
    "#TAGS = [\"baselines\", \"baseline\", \"best_model_0.2\", \"best_model\"]\n",
    "dfs = []\n",
    "\n",
    "for run in runs:\n",
    "    skip = False\n",
    "#    for ci, curkey in enumerate(KEYNAMES):\n",
    "#         if not curkey in run.config:\n",
    "#             skip = True\n",
    "#             break\n",
    "#         if not run.config[curkey] == VALS[ci]:\n",
    "#             skip = True\n",
    "#             break\n",
    "\n",
    "    if skip:\n",
    "        continue\n",
    "    if run.State != \"finished\":\n",
    "        continue\n",
    "    \n",
    "    data = defaultdict(list)\n",
    "    data[\"Tags\"].append(run.Tags)\n",
    "    data[\"name\"].append(run.name)\n",
    "    \n",
    "    \n",
    "    for k,v in run.config.items():\n",
    "        if not k.startswith(\"_\") or not k.contains(\"/\"):\n",
    "            data[k].append(v)\n",
    "\n",
    "    for k,v in run.summary._json_dict.items():\n",
    "        if k.startswith(\"_\"):\n",
    "            continue\n",
    "        if \"/\" in k:\n",
    "            continue\n",
    "        data[k].append(v)\n",
    "        \n",
    "    dfs.append(pd.DataFrame(data))\n",
    "\n",
    "print(\"took: \", time.time()-start)"
   ]
  },
  {
   "cell_type": "code",
   "execution_count": null,
   "id": "hourly-retailer",
   "metadata": {},
   "outputs": [],
   "source": [
    "runs[0]"
   ]
  },
  {
   "cell_type": "code",
   "execution_count": null,
   "id": "theoretical-manual",
   "metadata": {},
   "outputs": [],
   "source": [
    "df = pd.concat(dfs)"
   ]
  },
  {
   "cell_type": "code",
   "execution_count": null,
   "id": "constant-booking",
   "metadata": {},
   "outputs": [],
   "source": [
    "print(len(df))\n",
    "df.head(5)"
   ]
  },
  {
   "cell_type": "code",
   "execution_count": null,
   "id": "numeric-mortgage",
   "metadata": {},
   "outputs": [],
   "source": [
    "def get_row_featurization(row):\n",
    "    if row[\"table_features\"] == 1 \\\n",
    "        and row[\"set_column_feature\"] in [\"1\", 1, \"onehot\"] \\\n",
    "        and row[\"join_features\"] in [\"1\", 1, \"onehot\"] \\\n",
    "        and row[\"onehot_dropout\"] == 0:\n",
    "        return \"MSCN\"\n",
    "    elif row[\"onehot_dropout\"] == 2:\n",
    "        return \"MSCN (Ours)\" \n",
    "    else:\n",
    "        return \"unknown\""
   ]
  },
  {
   "cell_type": "code",
   "execution_count": null,
   "id": "precise-instrument",
   "metadata": {},
   "outputs": [],
   "source": [
    "print(len(set(df[\"name\"])))\n",
    "print(len(df))\n",
    "print(df.keys())"
   ]
  },
  {
   "cell_type": "code",
   "execution_count": null,
   "id": "appreciated-gross",
   "metadata": {},
   "outputs": [],
   "source": [
    "df[\"Featurization\"] = df.apply(lambda x: get_row_featurization(x), axis=1)"
   ]
  },
  {
   "cell_type": "code",
   "execution_count": null,
   "id": "israeli-thesaurus",
   "metadata": {},
   "outputs": [],
   "source": [
    "df.groupby([\"Featurization\"]).count()"
   ]
  },
  {
   "cell_type": "code",
   "execution_count": null,
   "id": "living-honolulu",
   "metadata": {},
   "outputs": [],
   "source": [
    "# print(set(df[\"set_column_feature\"]))\n",
    "# print(set(df[\"join_features\"]))\n",
    "pdf = df[df.Featurization != \"unknown\"]\n",
    "pdf = pdf[~pdf[\"Final-Relative-TotalPPCost-test\"].isna()]"
   ]
  },
  {
   "cell_type": "code",
   "execution_count": null,
   "id": "friendly-sword",
   "metadata": {},
   "outputs": [],
   "source": [
    "pdf.head(5)"
   ]
  },
  {
   "cell_type": "code",
   "execution_count": null,
   "id": "addressed-optimization",
   "metadata": {},
   "outputs": [],
   "source": [
    "import matplotlib.patches as mpatches\n",
    "\n",
    "plt.style.use(\"seaborn-white\")\n",
    "fig, axs = plt.subplots(figsize=(14,14), nrows=1, ncols=2)\n",
    "ymin = 0\n",
    "ymax = np.max([np.max(pdf[\"Final-Relative-TotalPPCost-val\"].values), \n",
    "              np.max(pdf[\"Final-Relative-TotalPPCost-test\"].values)])\n",
    "\n",
    "#print(ymin, ymax)\n",
    "\n",
    "ax = axs[0]\n",
    "sns.barplot(data=pdf, hue=\"Featurization\", y=\"Final-Relative-TotalPPCost-val\", \n",
    "                x=\"Featurization\", dodge=False, ax=ax,\n",
    "            palette=COLORS)\n",
    "ax.legend(title=\"\", loc=\"center left\", bbox_to_anchor=(0.60, 1.10), ncol=2, frameon=False, \n",
    "                fontsize=20)\n",
    "ax.set_ylabel(\"Relative PostgreSQL Cost\", fontsize=20)\n",
    "ax.set_title(\"Queries from training template\", fontsize=20)\n",
    "ax.tick_params(axis='both', which='major', labelsize=20)\n",
    "\n",
    "ax.set_xlabel(\"\")\n",
    "ax.axhline(y=PG_BASELINE_VAL, color=\"red\")\n",
    "#ax.set_ylim([ymin, ymax])\n",
    "\n",
    "ax.legend().remove()\n",
    "\n",
    "legend = ax.legend(loc='upper left', bbox_to_anchor=(0.6,1.1), ncol=3,\n",
    "                  prop={'size': 16})\n",
    "handles, labels = ax.get_legend_handles_labels()\n",
    "red_patch = mpatches.Patch(color='red', label='PostgreSQL')\n",
    "handles.append(red_patch)\n",
    "labels.append(\"PostgreSQL\")\n",
    "legend._legend_box = None\n",
    "legend._init_legend_box(handles, labels)\n",
    "legend._set_loc(legend._loc)\n",
    "legend.set_title(\"Estimator\")\n",
    "\n",
    "#ax.set_ylim([ymin,ymax])\n",
    "\n",
    "ax = axs[1]\n",
    "sns.barplot(data=pdf, hue=\"Featurization\", y=\"Final-Relative-TotalPPCost-test\", \n",
    "                x=\"Featurization\", dodge=False, ax=ax, \n",
    "            palette=COLORS)\n",
    "ax.set_title(\"Queries from new template\", fontsize=20)\n",
    "ax.legend().remove()\n",
    "ax.set_ylabel(\"\")\n",
    "ax.tick_params(axis='both', which='major', labelsize=20)\n",
    "ax.set_ylabel(\"Relative PostgreSQL Cost\", fontsize=20)\n",
    "ax.set_xlabel(\"\")\n",
    "ax.axhline(y=PG_BASELINE_COST, color=\"red\")\n",
    "\n",
    "#ax.set_ylim([ymin,ymax])\n",
    "\n",
    "#FN = SAVE_DIR + \"/\" + VALS[0] + \".png\"\n",
    "FN = \"./\" + VALS[0] + \"-PPC.pdf\"\n",
    "print(FN)\n",
    "\n",
    "plt.savefig(FN)"
   ]
  },
  {
   "cell_type": "code",
   "execution_count": null,
   "id": "informal-planet",
   "metadata": {},
   "outputs": [],
   "source": [
    "plt.style.use(\"seaborn-white\")\n",
    "fig, axs = plt.subplots(figsize=(14,10), nrows=1, ncols=2)\n",
    "# ymin = 0\n",
    "# ymax = np.max([np.max(pdf[\"Final-QError-val-mean\"].values), \n",
    "#               np.max(pdf[\"Final-QError-test-mean\"].values)])\n",
    "\n",
    "ax = axs[0]\n",
    "sns.barplot(data=pdf, hue=\"Featurization\", y=\"Final-QError-val-mean\", \n",
    "                x=\"Featurization\", dodge=False, ax=ax,\n",
    "           palette=COLORS)\n",
    "ax.legend(title=\"\", loc=\"center left\", bbox_to_anchor=(0.60, 1.10), ncol=2, frameon=False, \n",
    "                fontsize=20)\n",
    "ax.set_ylabel(\"Q-Error\", fontsize=20)\n",
    "ax.set_title(\"Queries from training template\", fontsize=20)\n",
    "ax.tick_params(axis='both', which='major', labelsize=20)\n",
    "ax.set_xlabel(\"\")\n",
    "#ax.axhline(y=PG_BASELINE_VAL, color=\"red\")\n",
    "#ax.set_ylim([ymin,ymax])\n",
    "\n",
    "ax = axs[1]\n",
    "sns.barplot(data=pdf, hue=\"Featurization\", y=\"Final-QError-test-mean\", \n",
    "                x=\"Featurization\", dodge=False, ax=ax,\n",
    "           palette=COLORS)\n",
    "ax.set_title(\"Queries from new template\", fontsize=20)\n",
    "ax.legend().remove()\n",
    "ax.set_ylabel(\"\")\n",
    "ax.tick_params(axis='both', which='major', labelsize=20)\n",
    "#ax.set_ylabel(\"Relative PostgreSQL Cost\", fontsize=20)\n",
    "ax.set_xlabel(\"\")\n",
    "#ax.axhline(y=PG_BASELINE_COST, color=\"red\")\n",
    "#ax.set_ylim([ymin,ymax])\n",
    "\n",
    "#FN = SAVE_DIR + \"/\" + VALS[0] + \".png\"\n",
    "FN = \"./\" + VALS[0] + \"Q-Error.pdf\"\n",
    "plt.savefig(FN)"
   ]
  },
  {
   "cell_type": "code",
   "execution_count": null,
   "id": "prepared-oxide",
   "metadata": {},
   "outputs": [],
   "source": [
    "# sns.barplot(data=pdf, hue=\"Featurization\", y=\"Final-Relative-TotalPPCost-val\", \n",
    "#                 x=\"Featurization\", dodge=False)"
   ]
  },
  {
   "cell_type": "code",
   "execution_count": null,
   "id": "corresponding-manchester",
   "metadata": {},
   "outputs": [],
   "source": [
    "pdf.keys()"
   ]
  },
  {
   "cell_type": "code",
   "execution_count": null,
   "id": "polar-avenue",
   "metadata": {},
   "outputs": [],
   "source": [
    "sns.barplot(data=pdf, hue=\"Featurization\", y=\"Final-QError-test-mean\", \n",
    "                x=\"Featurization\", dodge=False)"
   ]
  },
  {
   "cell_type": "code",
   "execution_count": null,
   "id": "continental-paint",
   "metadata": {},
   "outputs": [],
   "source": [
    "sns.barplot(data=pdf, hue=\"Featurization\", y=\"Final-Relative-TotalPPCost-test\", \n",
    "                x=\"name\", dodge=False)"
   ]
  },
  {
   "cell_type": "code",
   "execution_count": null,
   "id": "divided-lawsuit",
   "metadata": {},
   "outputs": [],
   "source": [
    "print(set(df[\"feat_onlyseen_preds\"]))\n",
    "print(set(df[\"feat_separate_alias\"]))"
   ]
  },
  {
   "cell_type": "code",
   "execution_count": null,
   "id": "broadband-intellectual",
   "metadata": {},
   "outputs": [],
   "source": []
  }
 ],
 "metadata": {
  "kernelspec": {
   "display_name": "Python 3",
   "language": "python",
   "name": "python3"
  },
  "language_info": {
   "codemirror_mode": {
    "name": "ipython",
    "version": 3
   },
   "file_extension": ".py",
   "mimetype": "text/x-python",
   "name": "python",
   "nbconvert_exporter": "python",
   "pygments_lexer": "ipython3",
   "version": "3.9.9"
  }
 },
 "nbformat": 4,
 "nbformat_minor": 5
}
